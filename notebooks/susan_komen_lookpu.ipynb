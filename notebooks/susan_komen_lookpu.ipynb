{
 "cells": [
  {
   "cell_type": "code",
   "execution_count": 5,
   "metadata": {},
   "outputs": [],
   "source": [
    "import numpy as np\n",
    "from pymilvus import utility, connections, Collection\n",
    "import torch"
   ]
  },
  {
   "cell_type": "markdown",
   "metadata": {},
   "source": [
    "### Connection Setup"
   ]
  },
  {
   "cell_type": "code",
   "execution_count": 2,
   "metadata": {},
   "outputs": [],
   "source": [
    "alias = \"ahcore_milvus_vector_db\"\n",
    "user = \"root\"\n",
    "pwd = \"taart123!\"\n",
    "port = 19530\n",
    "connections.connect(alias=alias, host='gorgophone', port=port, user=user, password=pwd)"
   ]
  },
  {
   "cell_type": "markdown",
   "metadata": {},
   "source": [
    "## Vector Lookup"
   ]
  },
  {
   "cell_type": "markdown",
   "metadata": {},
   "source": [
    "### Create Reference Vector Set"
   ]
  },
  {
   "cell_type": "code",
   "execution_count": 13,
   "metadata": {},
   "outputs": [
    {
     "name": "stdout",
     "output_type": "stream",
     "text": [
      "{'auto_id': True, 'description': 'pathology fomo CLS embedding collection', 'fields': [{'name': 'id', 'description': '', 'type': <DataType.INT64: 5>, 'is_primary': True, 'auto_id': True}, {'name': 'filename', 'description': '', 'type': <DataType.VARCHAR: 21>, 'params': {'max_length': 250}}, {'name': 'coordinate_x', 'description': '', 'type': <DataType.INT64: 5>}, {'name': 'coordinate_y', 'description': '', 'type': <DataType.INT64: 5>}, {'name': 'tile_size', 'description': '', 'type': <DataType.INT64: 5>}, {'name': 'mpp', 'description': '', 'type': <DataType.FLOAT: 10>}, {'name': 'embedding', 'description': '', 'type': <DataType.FLOAT_VECTOR: 101>, 'params': {'dim': 768}}], 'enable_dynamic_field': False}\n"
     ]
    }
   ],
   "source": [
    "print(collection.schema)"
   ]
  },
  {
   "cell_type": "code",
   "execution_count": 22,
   "metadata": {},
   "outputs": [
    {
     "name": "stdout",
     "output_type": "stream",
     "text": [
      "[{'coordinate_y': 0, 'id': 450890313421298898, 'filename': 'images/K102490.svs', 'coordinate_x': 22176}, {'coordinate_y': 0, 'id': 450890313421298899, 'filename': 'images/K102490.svs', 'coordinate_x': 33600}, {'coordinate_y': 0, 'id': 450890313421298900, 'filename': 'images/K102490.svs', 'coordinate_x': 33824}, {'coordinate_y': 0, 'id': 450890313421298901, 'filename': 'images/K102490.svs', 'coordinate_x': 34048}, {'coordinate_y': 0, 'id': 450890313421298902, 'filename': 'images/K102490.svs', 'coordinate_x': 34272}]\n"
     ]
    }
   ],
   "source": [
    "# We need to loop through all annotations of a certain type, find the coordinates, filenames, && labels\n",
    "# We then do a vector lookup for all the filesnames and coordinates, obtaining the vector entries\n",
    "# Example query lookup\n",
    "collection = Collection(name=\"path_fomo_cls_debug_coll\", using=alias)\n",
    "collection.create_index(field_name=\"embedding\", index_params=index)\n",
    "collection.load()\n",
    "\n",
    "res = collection.query(\n",
    "  expr = \"filename == 'images/K102490.svs' && coordinate_x > 20000 && coordinate_x < 40000 && coordinate_y == 0\",\n",
    "  output_fields=[\"filename\", \"coordinate_x\", \"coordinate_y\"], \n",
    "  consistency_level=\"Strong\",\n",
    "  limit=5,\n",
    ")\n",
    "print(res)\n"
   ]
  },
  {
   "cell_type": "markdown",
   "metadata": {},
   "source": [
    "### Perform search"
   ]
  },
  {
   "cell_type": "markdown",
   "metadata": {},
   "source": [
    "#### Create Index"
   ]
  },
  {
   "cell_type": "code",
   "execution_count": 9,
   "metadata": {},
   "outputs": [
    {
     "data": {
      "text/plain": [
       "Status(code=0, message=)"
      ]
     },
     "execution_count": 9,
     "metadata": {},
     "output_type": "execute_result"
    }
   ],
   "source": [
    "index = {\n",
    "    \"index_type\": \"FLAT\",\n",
    "    \"metric_type\": \"L2\",\n",
    "    \"params\": {\"nlist\": 2048},\n",
    "}\n",
    "collection = Collection(name=\"path_fomo_cls_debug_coll\", using=alias)\n",
    "collection.create_index(field_name=\"embedding\", index_params=index)"
   ]
  },
  {
   "cell_type": "markdown",
   "metadata": {},
   "source": [
    "#### Load Collection"
   ]
  },
  {
   "cell_type": "code",
   "execution_count": 10,
   "metadata": {},
   "outputs": [],
   "source": [
    "collection.load()"
   ]
  },
  {
   "cell_type": "markdown",
   "metadata": {},
   "source": [
    "#### Setup Search Params"
   ]
  },
  {
   "cell_type": "code",
   "execution_count": 11,
   "metadata": {},
   "outputs": [],
   "source": [
    "search_params = {\"metric_type\": \"L2\"}\n"
   ]
  }
 ],
 "metadata": {
  "kernelspec": {
   "display_name": "Python 3",
   "language": "python",
   "name": "python3"
  },
  "language_info": {
   "codemirror_mode": {
    "name": "ipython",
    "version": 3
   },
   "file_extension": ".py",
   "mimetype": "text/x-python",
   "name": "python",
   "nbconvert_exporter": "python",
   "pygments_lexer": "ipython3",
   "version": "3.11.8"
  }
 },
 "nbformat": 4,
 "nbformat_minor": 2
}
